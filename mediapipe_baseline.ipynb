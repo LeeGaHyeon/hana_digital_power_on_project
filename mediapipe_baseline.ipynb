{
 "cells": [
  {
   "cell_type": "code",
   "execution_count": 2,
   "id": "55923d6e-a829-472b-b9f1-b794dd6cf656",
   "metadata": {
    "tags": []
   },
   "outputs": [
    {
     "name": "stdout",
     "output_type": "stream",
     "text": [
      "Collecting mediapipe\n",
      "  Downloading mediapipe-0.10.8-cp311-cp311-win_amd64.whl.metadata (9.8 kB)\n",
      "Requirement already satisfied: absl-py in c:\\users\\user\\anaconda3\\envs\\1019\\lib\\site-packages (from mediapipe) (2.0.0)\n",
      "Requirement already satisfied: attrs>=19.1.0 in c:\\users\\user\\anaconda3\\envs\\1019\\lib\\site-packages (from mediapipe) (23.1.0)\n",
      "Requirement already satisfied: flatbuffers>=2.0 in c:\\users\\user\\anaconda3\\envs\\1019\\lib\\site-packages (from mediapipe) (23.5.26)\n",
      "Requirement already satisfied: matplotlib in c:\\users\\user\\anaconda3\\envs\\1019\\lib\\site-packages (from mediapipe) (3.8.0)\n",
      "Requirement already satisfied: numpy in c:\\users\\user\\appdata\\roaming\\python\\python311\\site-packages (from mediapipe) (1.24.3)\n",
      "Requirement already satisfied: opencv-contrib-python in c:\\users\\user\\anaconda3\\envs\\1019\\lib\\site-packages (from mediapipe) (4.8.1.78)\n",
      "Collecting protobuf<4,>=3.11 (from mediapipe)\n",
      "  Downloading protobuf-3.20.3-py2.py3-none-any.whl (162 kB)\n",
      "     ---------------------------------------- 0.0/162.1 kB ? eta -:--:--\n",
      "     -------------------------- ----------- 112.6/162.1 kB 3.3 MB/s eta 0:00:01\n",
      "     -------------------------------------- 162.1/162.1 kB 3.2 MB/s eta 0:00:00\n",
      "Collecting sounddevice>=0.4.4 (from mediapipe)\n",
      "  Downloading sounddevice-0.4.6-py3-none-win_amd64.whl (199 kB)\n",
      "     ---------------------------------------- 0.0/199.7 kB ? eta -:--:--\n",
      "     -------------------------------------- 199.7/199.7 kB 6.1 MB/s eta 0:00:00\n",
      "Requirement already satisfied: CFFI>=1.0 in c:\\users\\user\\anaconda3\\envs\\1019\\lib\\site-packages (from sounddevice>=0.4.4->mediapipe) (1.15.1)\n",
      "Requirement already satisfied: contourpy>=1.0.1 in c:\\users\\user\\anaconda3\\envs\\1019\\lib\\site-packages (from matplotlib->mediapipe) (1.1.1)\n",
      "Requirement already satisfied: cycler>=0.10 in c:\\users\\user\\anaconda3\\envs\\1019\\lib\\site-packages (from matplotlib->mediapipe) (0.12.1)\n",
      "Requirement already satisfied: fonttools>=4.22.0 in c:\\users\\user\\anaconda3\\envs\\1019\\lib\\site-packages (from matplotlib->mediapipe) (4.43.1)\n",
      "Requirement already satisfied: kiwisolver>=1.0.1 in c:\\users\\user\\anaconda3\\envs\\1019\\lib\\site-packages (from matplotlib->mediapipe) (1.4.5)\n",
      "Requirement already satisfied: packaging>=20.0 in c:\\users\\user\\anaconda3\\envs\\1019\\lib\\site-packages (from matplotlib->mediapipe) (23.1)\n",
      "Requirement already satisfied: pillow>=6.2.0 in c:\\users\\user\\anaconda3\\envs\\1019\\lib\\site-packages (from matplotlib->mediapipe) (10.0.1)\n",
      "Requirement already satisfied: pyparsing>=2.3.1 in c:\\users\\user\\anaconda3\\envs\\1019\\lib\\site-packages (from matplotlib->mediapipe) (3.1.1)\n",
      "Requirement already satisfied: python-dateutil>=2.7 in c:\\users\\user\\anaconda3\\envs\\1019\\lib\\site-packages (from matplotlib->mediapipe) (2.8.2)\n",
      "Requirement already satisfied: pycparser in c:\\users\\user\\anaconda3\\envs\\1019\\lib\\site-packages (from CFFI>=1.0->sounddevice>=0.4.4->mediapipe) (2.21)\n",
      "Requirement already satisfied: six>=1.5 in c:\\users\\user\\anaconda3\\envs\\1019\\lib\\site-packages (from python-dateutil>=2.7->matplotlib->mediapipe) (1.16.0)\n",
      "Downloading mediapipe-0.10.8-cp311-cp311-win_amd64.whl (50.5 MB)\n",
      "   ---------------------------------------- 0.0/50.5 MB ? eta -:--:--\n",
      "   ---------------------------------------- 0.5/50.5 MB 10.5 MB/s eta 0:00:05\n",
      "    --------------------------------------- 0.9/50.5 MB 9.6 MB/s eta 0:00:06\n",
      "   - -------------------------------------- 1.9/50.5 MB 13.1 MB/s eta 0:00:04\n",
      "   -- ------------------------------------- 3.2/50.5 MB 16.9 MB/s eta 0:00:03\n",
      "   --- ------------------------------------ 5.0/50.5 MB 21.4 MB/s eta 0:00:03\n",
      "   ----- ---------------------------------- 7.6/50.5 MB 26.9 MB/s eta 0:00:02\n",
      "   -------- ------------------------------- 10.8/50.5 MB 36.4 MB/s eta 0:00:02\n",
      "   ----------- ---------------------------- 15.0/50.5 MB 65.6 MB/s eta 0:00:01\n",
      "   --------------- ------------------------ 19.4/50.5 MB 93.9 MB/s eta 0:00:01\n",
      "   ----------------- ---------------------- 22.5/50.5 MB 81.8 MB/s eta 0:00:01\n",
      "   --------------------- ------------------ 26.9/50.5 MB 81.8 MB/s eta 0:00:01\n",
      "   ------------------------ --------------- 31.3/50.5 MB 93.0 MB/s eta 0:00:01\n",
      "   ---------------------------- ----------- 35.7/50.5 MB 93.9 MB/s eta 0:00:01\n",
      "   ------------------------------ --------- 39.1/50.5 MB 93.0 MB/s eta 0:00:01\n",
      "   ---------------------------------- ----- 43.5/50.5 MB 81.8 MB/s eta 0:00:01\n",
      "   ------------------------------------- -- 47.6/50.5 MB 93.9 MB/s eta 0:00:01\n",
      "   ---------------------------------------  50.5/50.5 MB 81.8 MB/s eta 0:00:01\n",
      "   ---------------------------------------- 50.5/50.5 MB 59.4 MB/s eta 0:00:00\n",
      "Installing collected packages: protobuf, sounddevice, mediapipe\n",
      "  Attempting uninstall: protobuf\n",
      "    Found existing installation: protobuf 4.23.4\n",
      "    Uninstalling protobuf-4.23.4:\n",
      "      Successfully uninstalled protobuf-4.23.4\n",
      "Successfully installed mediapipe-0.10.8 protobuf-3.20.3 sounddevice-0.4.6\n",
      "Note: you may need to restart the kernel to use updated packages.\n"
     ]
    }
   ],
   "source": [
    "pip install mediapipe"
   ]
  },
  {
   "cell_type": "code",
   "execution_count": 3,
   "id": "fcc8f29c-83ae-498a-9799-f5604deada79",
   "metadata": {
    "tags": []
   },
   "outputs": [
    {
     "name": "stdout",
     "output_type": "stream",
     "text": [
      "WARNING:tensorflow:From C:\\Users\\user\\anaconda3\\envs\\1019\\Lib\\site-packages\\keras\\src\\losses.py:2976: The name tf.losses.sparse_softmax_cross_entropy is deprecated. Please use tf.compat.v1.losses.sparse_softmax_cross_entropy instead.\n",
      "\n"
     ]
    }
   ],
   "source": [
    "import cv2\n",
    "import mediapipe as mp"
   ]
  },
  {
   "cell_type": "code",
   "execution_count": 4,
   "id": "487841d9-9bb0-43a4-b2fe-287e952508f9",
   "metadata": {
    "tags": []
   },
   "outputs": [],
   "source": [
    "# MediaPipe 핸드 모듈 초기화\n",
    "mp_hands = mp.solutions.hands\n",
    "hands = mp_hands.Hands(static_image_mode=True)\n",
    "mp_draw = mp.solutions.drawing_utils"
   ]
  },
  {
   "cell_type": "code",
   "execution_count": 15,
   "id": "2e157151-82cc-495d-8efd-cd4e8ac607d1",
   "metadata": {
    "tags": []
   },
   "outputs": [],
   "source": [
    "# 이미지 파일을 불러옴\n",
    "image = cv2.imread('C:/Users/user/jupyterlab/mediapipe/data/image.jpg') # 'path_to_your_image.jpg'를 이미지 파일 경로로 변경"
   ]
  },
  {
   "cell_type": "code",
   "execution_count": 21,
   "id": "6d7ef8f2-40cc-4cfc-95e4-062959808c86",
   "metadata": {
    "tags": []
   },
   "outputs": [],
   "source": [
    "# 이미지를 224x224로 조절\n",
    "image = cv2.resize(image, (224, 224))"
   ]
  },
  {
   "cell_type": "code",
   "execution_count": 22,
   "id": "f34f5412-7eec-4c80-9048-f164397a1b23",
   "metadata": {
    "tags": []
   },
   "outputs": [],
   "source": [
    "# BGR 이미지를 RGB로 변환\n",
    "image = cv2.cvtColor(image, cv2.COLOR_BGR2RGB)"
   ]
  },
  {
   "cell_type": "code",
   "execution_count": 23,
   "id": "2717440b-8481-40af-b5ef-eeba255efc93",
   "metadata": {
    "tags": []
   },
   "outputs": [],
   "source": [
    "# 손 인식 처리\n",
    "results = hands.process(image)"
   ]
  },
  {
   "cell_type": "code",
   "execution_count": 24,
   "id": "cf99c4fe-c4dc-43e9-a44a-96668b0e5547",
   "metadata": {
    "tags": []
   },
   "outputs": [],
   "source": [
    "# 이미지를 다시 BGR로 변환하여 화면에 표시\n",
    "image = cv2.cvtColor(image, cv2.COLOR_RGB2BGR)"
   ]
  },
  {
   "cell_type": "code",
   "execution_count": 25,
   "id": "0953f60b-9e5c-4ecd-9a6a-f7ace6a01cb5",
   "metadata": {
    "tags": []
   },
   "outputs": [],
   "source": [
    "# 인식된 손의 정보를 화면에 그리기\n",
    "if results.multi_hand_landmarks:\n",
    "    for hand_landmarks in results.multi_hand_landmarks:\n",
    "        mp_draw.draw_landmarks(image, hand_landmarks, mp_hands.HAND_CONNECTIONS)"
   ]
  },
  {
   "cell_type": "code",
   "execution_count": null,
   "id": "54a4c059-0d3a-47fc-92f0-62be8427a194",
   "metadata": {
    "tags": []
   },
   "outputs": [],
   "source": [
    "# 결과 이미지 표시\n",
    "cv2.imshow('Hand Tracking', image)\n",
    "cv2.waitKey(0)\n",
    "cv2.destroyAllWindows()"
   ]
  }
 ],
 "metadata": {
  "kernelspec": {
   "display_name": "Python 3 (ipykernel)",
   "language": "python",
   "name": "python3"
  },
  "language_info": {
   "codemirror_mode": {
    "name": "ipython",
    "version": 3
   },
   "file_extension": ".py",
   "mimetype": "text/x-python",
   "name": "python",
   "nbconvert_exporter": "python",
   "pygments_lexer": "ipython3",
   "version": "3.11.5"
  }
 },
 "nbformat": 4,
 "nbformat_minor": 5
}
